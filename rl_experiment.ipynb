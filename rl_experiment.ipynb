{
 "cells": [
  {
   "cell_type": "code",
   "execution_count": null,
   "id": "10276bd2",
   "metadata": {},
   "outputs": [],
   "source": [
    "from rl_env import TinyEnv\n",
    "from controllers import zero, pid, ppo"
   ]
  },
  {
   "cell_type": "code",
   "execution_count": null,
   "id": "2b4ea273",
   "metadata": {},
   "outputs": [],
   "source": [
    "env = TinyEnv(model_path=\"./models/tinyphysics.onnx\",data_path=\"./data/\", controller=ppo.Controller)\n",
    "print(f'sample observation_space: {env.observation_space.sample()}')\n",
    "print(f'sample action_space: {env.action_space.sample()}')"
   ]
  },
  {
   "cell_type": "code",
   "execution_count": null,
   "id": "0ea7d705",
   "metadata": {},
   "outputs": [],
   "source": [
    "obs, info = env.reset()\n",
    "for _ in range(105):\n",
    "    sample_action = env.action_space.sample()\n",
    "    obs, reward, terminated, truncated, info = env.step(sample_action)\n",
    "    print(f\"obs: {obs}\\nreward: {reward}\\nterminated: {terminated}\\ntruncated: {truncated}\\ninfo: {info}\")"
   ]
  }
 ],
 "metadata": {
  "kernelspec": {
   "display_name": "controls_challenge",
   "language": "python",
   "name": "python3"
  },
  "language_info": {
   "codemirror_mode": {
    "name": "ipython",
    "version": 3
   },
   "file_extension": ".py",
   "mimetype": "text/x-python",
   "name": "python",
   "nbconvert_exporter": "python",
   "pygments_lexer": "ipython3",
   "version": "3.11.13"
  }
 },
 "nbformat": 4,
 "nbformat_minor": 5
}
